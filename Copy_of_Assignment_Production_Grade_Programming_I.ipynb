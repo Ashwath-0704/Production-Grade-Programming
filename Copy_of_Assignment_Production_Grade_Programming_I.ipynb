{
  "nbformat": 4,
  "nbformat_minor": 0,
  "metadata": {
    "kernelspec": {
      "display_name": "Python 3",
      "language": "python",
      "name": "python3"
    },
    "language_info": {
      "codemirror_mode": {
        "name": "ipython",
        "version": 3
      },
      "file_extension": ".py",
      "mimetype": "text/x-python",
      "name": "python",
      "nbconvert_exporter": "python",
      "pygments_lexer": "ipython3",
      "version": "3.7.4"
    },
    "colab": {
      "name": "Copy of Assignment  - Production Grade Programming I.ipynb",
      "provenance": [],
      "collapsed_sections": []
    }
  },
  "cells": [
    {
      "cell_type": "markdown",
      "metadata": {
        "id": "8WbUJEVzs8Bx"
      },
      "source": [
        "## <u>While doing this assignment only use those concepts which have been taught till now</u>"
      ]
    },
    {
      "cell_type": "markdown",
      "metadata": {
        "id": "77zLnpaNvNSp"
      },
      "source": [
        "# <u> Problem 1</u>\n",
        "\n",
        "### Create a class <code>Cylinder</code> which takes two attributes <code>radius</code> and <code>height</code>.\n",
        "\n",
        "### Create the following methods in this class:\n",
        "\n",
        "* ### method <code>volume()</code> which calculates the volume of the cyinder which is defined as $V  = \\pi r^2 h$\n",
        "\n",
        "* ### method <code>surface_area()</code> which calculates the area of the cyinder which is defined as $S  = 2\\pi r h$. Assume this is an open cylinder\n"
      ]
    },
    {
      "cell_type": "code",
      "metadata": {
        "id": "-cWkCZ5OzX0G"
      },
      "source": [
        "# Write your code below. Take pi as 3.14\n",
        "class Cylinder:\n",
        "\n",
        "  def __init__(self,radius=1,height=1):\n",
        "    self.volume = radius \n",
        "    self.height = height\n",
        "\n",
        "  def cylinder_1(self):\n",
        "    self.volume_1 = 3.14 * self.volume * self.volume *  self.height\n",
        "    self.surface_area = 2*3.14 * self.volume * self.volume * self.height\n",
        "\n",
        "    return \"Volumn of cylinder is --->\", self.volume_1,\"surface_area of cylinderis --->\",self.surface_area"
      ],
      "execution_count": null,
      "outputs": []
    },
    {
      "cell_type": "code",
      "metadata": {
        "id": "tgS3mhN-18b_",
        "colab": {
          "base_uri": "https://localhost:8080/"
        },
        "outputId": "26171e9c-adcf-48fe-967f-ab69b893746e"
      },
      "source": [
        "# Check for sample inputs\n",
        "c= Cylinder(2,2)\n",
        "c.cylinder_1()"
      ],
      "execution_count": null,
      "outputs": [
        {
          "output_type": "execute_result",
          "data": {
            "text/plain": [
              "('Volumn of cylinder is --->', 25.12, 'surface_area of cylinderis --->', 50.24)"
            ]
          },
          "metadata": {},
          "execution_count": 47
        }
      ]
    },
    {
      "cell_type": "markdown",
      "metadata": {
        "id": "KjPWYK0Rs8By"
      },
      "source": [
        "## <u>Problem 2</u>\n",
        "\n",
        "### You started your own money wallet where your customers can create their accounts and they can either deposit or withdraw money from this wallet.\n",
        "\n",
        "### Write a Python class <code>BankAccount</code> which takes the balance as an attribute. You can initialize the balance with 0 because any new account will have 0 rupees in their wallet. Next write two methods for your class :\n",
        "\n",
        "* #### <code>withdraw()</code> method which takes the amount to be withdrawn as an argument and returns the balance after the withdrawal\n",
        "\n",
        "* #### <code>deposit()</code> method which takes the amount to be deposited as an argument and returns the balance after the deposit.\n",
        "\n",
        "### Keep in mind that if the balance to be withdrawn exceeds the current balance, it should display a message that \"Not enough balance in your account\"\n"
      ]
    },
    {
      "cell_type": "code",
      "metadata": {
        "id": "RxVZTrenzfHC"
      },
      "source": [
        "# Write your BankAccount class below \n",
        "\n",
        "class BankAccount:\n",
        "  def __init__(self,balance=0):\n",
        "    self.balance = balance\n",
        "\n",
        "  def withdrawn(self, account_balance_1):\n",
        "\n",
        "    if (self.balance<account_balance_1):\n",
        "\n",
        "      self.balance_1=(account_balance_1-self.balance)\n",
        "      print(\"current balance after the withdrawal is:\",self.balance_1)\n",
        "\n",
        "    else:\n",
        "      print(\"Not enough balance in your account\")\n",
        "      \n",
        "  def deposit(self,deposit_amount):\n",
        "    if (deposit_amount>self.balance):\n",
        "      self.deposit_amount_1 = (deposit_amount + self.balance)\n",
        "      print(\"current balance after the withdrawal is:\",self.deposit_amount_1)"
      ],
      "execution_count": null,
      "outputs": []
    },
    {
      "cell_type": "code",
      "metadata": {
        "id": "N1Yhpkiws8B3"
      },
      "source": [
        "# Create two instances of this class for two customers\n",
        "g=BankAccount()\n",
        "h=BankAccount()"
      ],
      "execution_count": null,
      "outputs": []
    },
    {
      "cell_type": "markdown",
      "metadata": {
        "id": "mSTxPcO3fWeX"
      },
      "source": [
        "### Next add some amount and withdraw some another amount for both the customers."
      ]
    },
    {
      "cell_type": "code",
      "metadata": {
        "id": "KpMdlB5Fs8B8",
        "colab": {
          "base_uri": "https://localhost:8080/"
        },
        "outputId": "091d7606-d8cf-4edd-efda-7856033ce0be"
      },
      "source": [
        "# Deposit some amount and withdrawing some amount from the two accounts and check if your method works fine\n",
        "\n",
        "# priyanka reddy\n",
        "g.withdrawn(1)\n",
        "g.deposit(2)\n",
        "\n",
        "# ashwath naidu\n",
        "h.withdrawn(9000)\n",
        "h.deposit(905000)"
      ],
      "execution_count": null,
      "outputs": [
        {
          "output_type": "stream",
          "text": [
            "current balance after the withdrawal is: 1\n",
            "current balance after the withdrawal is: 2\n",
            "current balance after the withdrawal is: 9000\n",
            "current balance after the withdrawal is: 905000\n"
          ],
          "name": "stdout"
        }
      ]
    },
    {
      "cell_type": "markdown",
      "metadata": {
        "id": "5qd8g8UUs8CM"
      },
      "source": [
        "## <u>Problem 3 </u>\n",
        "\n",
        "### Create a class <code>Time </code> which takes two inputs hours and minutes to instantiate.\n",
        "*  #### Construct a method <code>DisplayTime()</code> which displays the time in AM/PM formats. For example if the input is 14 hours and 45 mins, then this method will print \"The time is 2:45 PM\". If the inputted hours exceeds 23 then print the message \"The input hours should be less than 24\" and if the inputted minutes exceeds 59 then print the message \"The input minutes should be less than 60.\" Also if the input is 12 hours 30 minutes, then the displayed time would be 12:30 PM\n",
        "* #### Construct a method <code>DisplayRatio()</code> which should display the ratio of minutes to hours. For example, (8 hours and  16 mins) should display 2. Use <code>try</code>, <code>except</code> block to account for ZeroDivisionError."
      ]
    },
    {
      "cell_type": "code",
      "metadata": {
        "id": "FBJy9Sq_s8CN"
      },
      "source": [
        "class Time:\n",
        "\n",
        "  def __init__(self,hours,minutes):\n",
        "    self.hours=hours\n",
        "    self.minutes=minutes\n",
        "#--------------------------- DisplayTime---------------------\n",
        "\n",
        "  def DisplayTime(self):\n",
        "\n",
        "    self.starts_hours_PM = 12\n",
        "\n",
        "    if ( self.hours<=24 and self.minutes<60):\n",
        "\n",
        "      if (self.hours<12):\n",
        "        self.time=self.hours\n",
        "        print( \"Time is--->\",self.time,\":\",self.minutes,\"AM\")\n",
        "\n",
        "      else:\n",
        "        self.time = (self.hours - self.starts_hours_PM) \n",
        "\n",
        "        if (self.time==0):\n",
        "          self.time=12\n",
        "        print(\"Time is--->\",self.time,\":\",self.minutes,\"PM\")\n",
        "\n",
        "    else:\n",
        "      print(\"Invalid Given Time\")\n",
        "#--------------------------- DisplayRatio---------------------\n",
        "  def DisplayRatio(self):\n",
        "    try : \n",
        "      ratio= self.minutes/self.hours\n",
        "      print(\"DisplayRatio is --->\",ratio)\n",
        "    except: \n",
        "      print(\"Can not divided by zero\")\n",
        "\n",
        "  "
      ],
      "execution_count": null,
      "outputs": []
    },
    {
      "cell_type": "code",
      "metadata": {
        "colab": {
          "base_uri": "https://localhost:8080/"
        },
        "id": "SGiq4sznCzd_",
        "outputId": "29fffb2f-6213-4f8b-8f72-b8d3577b36f5"
      },
      "source": [
        "j= Time(24,45)\n",
        "j.DisplayTime()"
      ],
      "execution_count": null,
      "outputs": [
        {
          "output_type": "stream",
          "text": [
            "Time is---> 12 : 45 PM\n"
          ],
          "name": "stdout"
        }
      ]
    },
    {
      "cell_type": "code",
      "metadata": {
        "id": "zywXa51d6Eev",
        "colab": {
          "base_uri": "https://localhost:8080/"
        },
        "outputId": "8b6e58d2-3495-4b6e-953c-08b522a2f8a5"
      },
      "source": [
        "# Check for few sample inputs of hours and mins\n",
        "hour_min_list = [(23,45), (34,50), (12,34), (14,67),(19,20), (2,15), (0,10)]\n",
        "\n",
        "# Using a for loop display the corresponding 12 hour time format for the above hour_min_list\n",
        "\n",
        "for i in hour_min_list:\n",
        "  i1=i[0]\n",
        "  i2=i[1]\n",
        "  j=Time(i1,i2)  \n",
        "  j.DisplayTime()\n",
        "# Also display the corresponding ratios for the above list\n",
        "\n",
        "for i in hour_min_list:\n",
        "  i1=i[0]\n",
        "  i2=i[1]\n",
        "  j=Time(i1,i2)  \n",
        "  j.DisplayRatio()"
      ],
      "execution_count": null,
      "outputs": [
        {
          "output_type": "stream",
          "text": [
            "Time is---> 11 : 45 PM\n",
            "Invalid Given Time\n",
            "Time is---> 12 : 34 PM\n",
            "Invalid Given Time\n",
            "Time is---> 7 : 20 PM\n",
            "Time is---> 2 : 15 AM\n",
            "Time is---> 0 : 10 AM\n",
            "DisplayRatio is ---> 1.9565217391304348\n",
            "DisplayRatio is ---> 1.4705882352941178\n",
            "DisplayRatio is ---> 2.8333333333333335\n",
            "DisplayRatio is ---> 4.785714285714286\n",
            "DisplayRatio is ---> 1.0526315789473684\n",
            "DisplayRatio is ---> 7.5\n",
            "Can not divided by zero\n"
          ],
          "name": "stdout"
        }
      ]
    },
    {
      "cell_type": "code",
      "metadata": {
        "id": "mgcu1_SAjAqF"
      },
      "source": [
        ""
      ],
      "execution_count": null,
      "outputs": []
    }
  ]
}